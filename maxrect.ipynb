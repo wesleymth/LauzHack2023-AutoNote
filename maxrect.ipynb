{
 "cells": [
  {
   "cell_type": "code",
   "execution_count": 129,
   "metadata": {},
   "outputs": [],
   "source": [
    "import numpy as np\n",
    "from scipy import signal"
   ]
  },
  {
   "cell_type": "code",
   "execution_count": 130,
   "metadata": {},
   "outputs": [],
   "source": [
    "a = np.zeros((10,10), dtype=int)\n",
    "ones = (\n",
    "    (0, 0),\n",
    "    (1, 1), \n",
    "    (1, 2), \n",
    "    \n",
    "    # (1, 3),\n",
    "    (3, 1),\n",
    "    \n",
    "    (2, 1), \n",
    "    (2, 2), \n",
    "    \n",
    "    # (2, 3),\n",
    "    (3, 2),\n",
    "    \n",
    "    (4, 5),\n",
    "    (0, 8),\n",
    "    (0, 9),\n",
    "    (1, 8),\n",
    "    (1, 9)\n",
    "    \n",
    ")\n",
    "for point in ones:\n",
    "    a[point] = 1"
   ]
  },
  {
   "cell_type": "code",
   "execution_count": 131,
   "metadata": {},
   "outputs": [
    {
     "data": {
      "text/plain": [
       "array([[1, 0, 0, 0, 0, 0, 0, 0, 1, 1],\n",
       "       [0, 1, 1, 0, 0, 0, 0, 0, 1, 1],\n",
       "       [0, 1, 1, 0, 0, 0, 0, 0, 0, 0],\n",
       "       [0, 1, 1, 0, 0, 0, 0, 0, 0, 0],\n",
       "       [0, 0, 0, 0, 0, 1, 0, 0, 0, 0],\n",
       "       [0, 0, 0, 0, 0, 0, 0, 0, 0, 0],\n",
       "       [0, 0, 0, 0, 0, 0, 0, 0, 0, 0],\n",
       "       [0, 0, 0, 0, 0, 0, 0, 0, 0, 0],\n",
       "       [0, 0, 0, 0, 0, 0, 0, 0, 0, 0],\n",
       "       [0, 0, 0, 0, 0, 0, 0, 0, 0, 0]])"
      ]
     },
     "execution_count": 131,
     "metadata": {},
     "output_type": "execute_result"
    }
   ],
   "source": [
    "a"
   ]
  },
  {
   "cell_type": "code",
   "execution_count": 132,
   "metadata": {},
   "outputs": [],
   "source": [
    "def find_largest_square_helper(a):\n",
    "    for i in range(2, min(a.shape)): # changed this to 2, because the 1 is trivial\n",
    "        kernel = np.ones((i, i), dtype=int)\n",
    "        if signal.convolve(a, kernel, mode = \"valid\").max() != i**2:\n",
    "            return(i-1), signal.convolve(a,  np.ones((i-1, i-1), dtype=int), mode = \"valid\")\n",
    "\n",
    "def generate_rectangle_coords(a):\n",
    "    max_square_size, conv = find_largest_square_helper(a)\n",
    "    opt_y, opt_x = np.where(conv == max_square_size**2) # Find the optimum indexes\n",
    "\n",
    "    # print(f\"{opt_x=}, {opt_y=}\")\n",
    "\n",
    "    # Find the unique indexes and their counts\n",
    "    unique_y, count_y = np.unique(opt_y, return_counts=True)\n",
    "    unique_x, count_x = np.unique(opt_x, return_counts=True)\n",
    "\n",
    "    # print(f\"{count_x=}, {count_y=}\")\n",
    "\n",
    "    if np.max(count_y) > np.max(count_x): # If you have more duplicates in the y dimension (better to expand)\n",
    "        best_y_index = unique_y[np.argmax(count_y)] # The index to expand on \n",
    "        \n",
    "        first_x_index =  opt_x[np.where(opt_y == best_y_index)[0][0]] \n",
    "        last_x_index = opt_x[np.where(opt_y == best_y_index)[0][-1]]\n",
    "        \n",
    "        # print(\"y\")\n",
    "        \n",
    "        \n",
    "        # a[best_y_index:best_y_index+max_square_size, first_x_index:last_x_index+max_square_size] = 3\n",
    "        return {\n",
    "            \"x0\":first_x_index,\n",
    "            \"x1\":last_x_index+max_square_size,\n",
    "            \"y0\":best_y_index,\n",
    "            \"y1\":best_y_index+max_square_size,\n",
    "        }\n",
    "    else:\n",
    "        best_x_index = unique_x[np.argmax(count_x)] # The index to expand on \n",
    "        \n",
    "        first_y_index =  opt_y[np.where(opt_x == best_x_index)[0][0]] \n",
    "        last_y_index = opt_y[np.where(opt_x == best_x_index)[0][-1]]\n",
    "        # print(\"x\")\n",
    "        \n",
    "        return {\n",
    "            \"x0\":best_x_index,\n",
    "            \"x1\":best_x_index+max_square_size,\n",
    "            \"y0\":first_y_index,\n",
    "            \"y1\":last_y_index+max_square_size,\n",
    "        }\n",
    "        \n",
    "        # a[first_y_index:last_y_index+max_square_size, best_x_index:best_x_index+max_square_size] = 3\n",
    "    \n",
    "    \n",
    "    "
   ]
  },
  {
   "cell_type": "code",
   "execution_count": 133,
   "metadata": {},
   "outputs": [
    {
     "data": {
      "text/plain": [
       "{'x0': 1, 'x1': 3, 'y0': 1, 'y1': 4}"
      ]
     },
     "execution_count": 133,
     "metadata": {},
     "output_type": "execute_result"
    }
   ],
   "source": [
    "rectangle_coords = generate_rectangle_coords(a)\n",
    "rectangle_coords"
   ]
  },
  {
   "cell_type": "code",
   "execution_count": 134,
   "metadata": {},
   "outputs": [
    {
     "data": {
      "text/plain": [
       "array([[1, 1],\n",
       "       [1, 1],\n",
       "       [1, 1]])"
      ]
     },
     "execution_count": 134,
     "metadata": {},
     "output_type": "execute_result"
    }
   ],
   "source": [
    "a[rectangle_coords['y0']:rectangle_coords['y1'], rectangle_coords['x0']:rectangle_coords['x1']]"
   ]
  },
  {
   "cell_type": "code",
   "execution_count": null,
   "metadata": {},
   "outputs": [],
   "source": []
  }
 ],
 "metadata": {
  "kernelspec": {
   "display_name": "lauz",
   "language": "python",
   "name": "python3"
  },
  "language_info": {
   "codemirror_mode": {
    "name": "ipython",
    "version": 3
   },
   "file_extension": ".py",
   "mimetype": "text/x-python",
   "name": "python",
   "nbconvert_exporter": "python",
   "pygments_lexer": "ipython3",
   "version": "3.11.5"
  }
 },
 "nbformat": 4,
 "nbformat_minor": 2
}
