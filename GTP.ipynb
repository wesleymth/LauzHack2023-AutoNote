{
 "cells": [
  {
   "cell_type": "code",
   "execution_count": 1,
   "metadata": {},
   "outputs": [],
   "source": [
    "from gtp_summary import generate_response"
   ]
  },
  {
   "cell_type": "code",
   "execution_count": 2,
   "metadata": {},
   "outputs": [],
   "source": [
    "def generate_prompt(path_audio_transcript, path_slides_transcript,not_ignore_slides=False):\n",
    "    with open(path_audio_transcript, 'r') as file:\n",
    "        audio_text = [line.strip() for line in file.readlines()]\n",
    "    if not_ignore_slides:\n",
    "        with open(path_slides_transcript, 'r') as file:\n",
    "            slide_text = [line.strip() for line in file.readlines()]\n",
    "    text =[]\n",
    "    for i in range(len(audio_text)):\n",
    "        text.append(\"First Text: \" + audio_text[i] + \" Second Text: \" + slide_text[i])\n",
    "\n",
    "    return text"
   ]
  },
  {
   "cell_type": "code",
   "execution_count": 7,
   "metadata": {},
   "outputs": [
    {
     "name": "stdout",
     "output_type": "stream",
     "text": [
      "First Text: most challenging for the neural interfaces is the passive diffusion. So you can have ions that diffuse through structure, diffuse through the tissue, and what you want to avoid usually is have ion diffusion through the bulk of your interface, because ions may come and contaminate or corrode your electrodes. Second Text: most challenging for the neural interfaces is the passive diffusion. So you can have ions that diffuse through structure, diffuse through the tissue, and what you want to avoid usually is have ion diffusion through the bulk of your interface, because ions may come and contaminate or corrode your electrodes.\n"
     ]
    }
   ],
   "source": [
    "text = generate_prompt('transcript_audio.txt','transcript_audio.txt',True)\n",
    "print(text[0])"
   ]
  },
  {
   "cell_type": "code",
   "execution_count": 8,
   "metadata": {},
   "outputs": [
    {
     "name": "stdout",
     "output_type": "stream",
     "text": [
      "- The main challenge for neural interfaces is passive diffusion.\n",
      "- Ions can diffuse through the structure and tissue.\n",
      "- Ion diffusion through the bulk of the interface should be avoided to prevent electrode contamination or corrosion.\n"
     ]
    }
   ],
   "source": [
    "# TOKEN USE !\n",
    "answer = generate_response(text[0])\n",
    "print(answer)"
   ]
  },
  {
   "cell_type": "code",
   "execution_count": null,
   "metadata": {},
   "outputs": [],
   "source": []
  }
 ],
 "metadata": {
  "kernelspec": {
   "display_name": "lauz",
   "language": "python",
   "name": "python3"
  },
  "language_info": {
   "codemirror_mode": {
    "name": "ipython",
    "version": 3
   },
   "file_extension": ".py",
   "mimetype": "text/x-python",
   "name": "python",
   "nbconvert_exporter": "python",
   "pygments_lexer": "ipython3",
   "version": "3.11.5"
  }
 },
 "nbformat": 4,
 "nbformat_minor": 2
}
