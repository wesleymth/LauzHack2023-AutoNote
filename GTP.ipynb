{
 "cells": [
  {
   "cell_type": "code",
   "execution_count": 1,
   "metadata": {},
   "outputs": [],
   "source": [
    "from gtp_summary import generate_response"
   ]
  },
  {
   "cell_type": "code",
   "execution_count": 13,
   "metadata": {},
   "outputs": [],
   "source": [
    "def generate_prompt(path_audio_transcript, path_slides_transcript,not_ignore_slides=False):\n",
    "    with open(path_audio_transcript, 'r') as file:\n",
    "        audio_text = [line.strip() for line in file.readlines()]\n",
    "\n",
    "    if not_ignore_slides:\n",
    "        with open(path_slides_transcript, 'r') as file:\n",
    "            slide_text = [line.strip() for line in file.readlines()]\n",
    "    else:\n",
    "        slide_text = [\"\" for _ in audio_text]\n",
    "\n",
    "    text =[]\n",
    "\n",
    "    for i in range(len(audio_text)):\n",
    "        text.append(\"First Text: \" + audio_text[i] + \" Second Text: \" + slide_text[i])\n",
    "\n",
    "    return text"
   ]
  },
  {
   "cell_type": "code",
   "execution_count": 14,
   "metadata": {},
   "outputs": [
    {
     "name": "stdout",
     "output_type": "stream",
     "text": [
      "First Text: most challenging for the neural interfaces is the passive diffusion. So you can have ions that diffuse through structure, diffuse through the tissue, and what you want to avoid usually is have ion diffusion through the bulk of your interface, because ions may come and contaminate or corrode your electrodes. Second Text: \n"
     ]
    }
   ],
   "source": [
    "text = generate_prompt('transcript_audio.txt','transcript_slides.txt',False)\n",
    "print(text[0])"
   ]
  },
  {
   "cell_type": "code",
   "execution_count": 15,
   "metadata": {},
   "outputs": [
    {
     "name": "stdout",
     "output_type": "stream",
     "text": [
      "- Neurons are electrogenic cells that can generate electrical pulses.\n",
      "- Action potential is the signal that results from the depolarization of the cell membrane.\n",
      "- Action potential can transmit information from a sensor to the central nervous system or from the central nervous system to a muscle.\n",
      "- Action potential plays a role in both transmitting and sensing information.\n"
     ]
    }
   ],
   "source": [
    "# TOKEN USE !\n",
    "answer = generate_response(text[1])\n",
    "print(answer)"
   ]
  },
  {
   "cell_type": "code",
   "execution_count": null,
   "metadata": {},
   "outputs": [],
   "source": []
  }
 ],
 "metadata": {
  "kernelspec": {
   "display_name": "lauz",
   "language": "python",
   "name": "python3"
  },
  "language_info": {
   "codemirror_mode": {
    "name": "ipython",
    "version": 3
   },
   "file_extension": ".py",
   "mimetype": "text/x-python",
   "name": "python",
   "nbconvert_exporter": "python",
   "pygments_lexer": "ipython3",
   "version": "3.11.5"
  }
 },
 "nbformat": 4,
 "nbformat_minor": 2
}
