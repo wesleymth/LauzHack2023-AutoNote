{
 "cells": [
  {
   "cell_type": "code",
   "execution_count": 1,
   "metadata": {},
   "outputs": [],
   "source": [
    "from gtp_summary import generate_response"
   ]
  },
  {
   "cell_type": "code",
   "execution_count": 8,
   "metadata": {},
   "outputs": [],
   "source": [
    "def generate_prompt(path_audio_transcript, path_slides_transcript,not_ignore_slides=False):\n",
    "    with open(path_audio_transcript, 'r') as file:\n",
    "        audio_text = [line.strip() for line in file.readlines()]\n",
    "    if not_ignore_slides:\n",
    "        with open(path_slides_transcript, 'r') as file:\n",
    "            slide_text = [line.strip() for line in file.readlines()]\n",
    "    text =[]\n",
    "    for i in range(len(audio_text)):\n",
    "        text.append(\"First Text: \" + audio_text[i] + \" Second Text: \" + slide_text[i])\n",
    "\n",
    "    return text"
   ]
  },
  {
   "cell_type": "code",
   "execution_count": 14,
   "metadata": {},
   "outputs": [
    {
     "name": "stdout",
     "output_type": "stream",
     "text": [
      "First Text: We used to do a lot of document understanding. This was my internship project a few ages ago. To understand handwriting in very difficult documents so that you can optimize processes in the back end. Second Text: ['##ch_internal##', 'DOCUMENT UNDERSTANDING•Classification•Field extraction (OCR + HWR)•Semantic understanding•Process automation•Videos are also documents!•Your class notes are also docs!']\n"
     ]
    }
   ],
   "source": [
    "text = generate_prompt('output.txt','output2.txt',True)\n",
    "print(text[1])"
   ]
  },
  {
   "cell_type": "code",
   "execution_count": 9,
   "metadata": {},
   "outputs": [
    {
     "name": "stdout",
     "output_type": "stream",
     "text": [
      "- Previous experience with conversational interfaces, specifically chatbots.\n",
      "- Emphasis on past projects involving chatbots.\n",
      "- Indication that the current project will not be focused on chatbots.\n"
     ]
    }
   ],
   "source": [
    "# TOKEN USE !\n",
    "#answer = generate_response(text)\n",
    "print(answer)"
   ]
  }
 ],
 "metadata": {
  "kernelspec": {
   "display_name": "lauz",
   "language": "python",
   "name": "python3"
  },
  "language_info": {
   "codemirror_mode": {
    "name": "ipython",
    "version": 3
   },
   "file_extension": ".py",
   "mimetype": "text/x-python",
   "name": "python",
   "nbconvert_exporter": "python",
   "pygments_lexer": "ipython3",
   "version": "3.11.5"
  }
 },
 "nbformat": 4,
 "nbformat_minor": 2
}
