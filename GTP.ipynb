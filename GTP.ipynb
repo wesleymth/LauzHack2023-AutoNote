{
 "cells": [
  {
   "cell_type": "code",
   "execution_count": 1,
   "metadata": {},
   "outputs": [],
   "source": [
    "from gtp_summary import generate_response"
   ]
  },
  {
   "cell_type": "code",
   "execution_count": 2,
   "metadata": {},
   "outputs": [
    {
     "name": "stdout",
     "output_type": "stream",
     "text": [
      "First text: I have a background in computer vision, so I played a lot with mobile apps and previous hackathon challenges. I missed there. Previous hackathon challenges used to be around computer vision. You can do a lot of cool stuff with them. You can still do them today, but surprise, you don't have to do them manually. You can just ask the API to do it for you. Second text: ['##ch_internal##', 'Case: AXA Media platform –Claim improvementWater leakage: use machine vision to improve claim management', 'EARLY DRAFT']\n"
     ]
    }
   ],
   "source": [
    "# Save each line of the text file into a list of strings\n",
    "with open('output.txt', 'r') as file:\n",
    "    audio_text = [line.strip() for line in file.readlines()]\n",
    "\n",
    "with open('output2.txt', 'r') as file:\n",
    "    slide_text = [line.strip() for line in file.readlines()]\n",
    "\n",
    "# Preview to see if the text was saved correctly\n",
    "text = \"First Text: \" + audio_text[2] + \" Second Text: \" + slide_text[2]\n",
    "print(text)"
   ]
  },
  {
   "cell_type": "code",
   "execution_count": 3,
   "metadata": {},
   "outputs": [
    {
     "name": "stdout",
     "output_type": "stream",
     "text": [
      "- Author's background: Computer vision expertise.\n",
      "- Experience with mobile apps and previous hackathon challenges.\n",
      "- Previous hackathon challenges focused on computer vision.\n",
      "- Emphasis on the cool things that can be done with computer vision in hackathons.\n",
      "- Shift from manual tasks to API automation in hackathons.\n"
     ]
    }
   ],
   "source": [
    "# TOKEN USE !\n",
    "answer = generate_response(text)\n",
    "print(answer)"
   ]
  }
 ],
 "metadata": {
  "kernelspec": {
   "display_name": "lauz",
   "language": "python",
   "name": "python3"
  },
  "language_info": {
   "codemirror_mode": {
    "name": "ipython",
    "version": 3
   },
   "file_extension": ".py",
   "mimetype": "text/x-python",
   "name": "python",
   "nbconvert_exporter": "python",
   "pygments_lexer": "ipython3",
   "version": "3.11.5"
  }
 },
 "nbformat": 4,
 "nbformat_minor": 2
}
